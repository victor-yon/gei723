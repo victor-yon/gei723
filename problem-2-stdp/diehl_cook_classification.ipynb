{
 "cells": [
  {
   "cell_type": "markdown",
   "metadata": {},
   "source": [
    "## GEI723, Université de Sherbrooke, Oct. 2020. Jean Rouat\n",
    "\n",
    "Ce notebook est une adaptation de la classification par STDP de MNIST par Diehl & Cook, créé par I. Balafrej pour l'automne 2019, et adapté par A. El Ferdaoussi pour l'automne 2020.\n",
    "\n",
    "L'article de Diehl & Cook est disponible ici: https://www.frontiersin.org/articles/10.3389/fncom.2015.00099/full\n",
    "\n",
    "Le modèle est simplifié un peu et réécrit pour Brian2 et Python 3. Le code est à trous, et les parties à compléter sont indiquées par 'COMPLETER'.\n",
    "\n",
    "ATTENTION: 'exemple donné ici utilise seulement des données d'entrainement et de validation (appelées à tort \"test\").\n",
    "\n",
    "Les équations et certains paramètres des neurones sont fournies.\n",
    "\n",
    "Un exemple d'encodage par fréquence est utilisé (voir la partie \"testons à présent le réseau entrainé'). Vous avez toute liberté d'utiliser un autre type d'encodage."
   ]
  },
  {
   "cell_type": "code",
   "execution_count": 1,
   "metadata": {},
   "outputs": [],
   "source": [
    "import numpy as np\n",
    "from sklearn import datasets, model_selection\n",
    "from brian2 import *\n",
    "import matplotlib.pyplot as plt\n",
    "%matplotlib inline\n",
    "\n",
    "DATA_LIMIT = 200\n",
    "TEST_SIZE = 50\n",
    "NUMBER_NODES_PER_LAYER = 784"
   ]
  },
  {
   "cell_type": "markdown",
   "metadata": {},
   "source": [
    "## Ensemble de données MNIST\n",
    "\n",
    "On télécharge l'ensemble de données MNIST directement dans le code. MNIST est disponible à https://www.openml.org/d/554\n",
    "\n",
    "L'argument 'data_home' peut être utilisé pour télécharger MNIST dans un répertoire de votre choix. (Le répertoire par défaut est '~/scikit_learn_data/'.)"
   ]
  },
  {
   "cell_type": "code",
   "execution_count": 2,
   "metadata": {},
   "outputs": [],
   "source": [
    "X_all, y_all = datasets.fetch_openml('mnist_784', version=1, return_X_y=True, data_home='./data')"
   ]
  },
  {
   "cell_type": "markdown",
   "metadata": {},
   "source": [
    "MNIST est constituté de 70k d'images de 28x28 pixels, de chiffres.\n",
    "\n",
    "'X' est le vecteur d'images, et 'y' est le vecteur d'étiquettes (labels)."
   ]
  },
  {
   "cell_type": "code",
   "execution_count": 3,
   "metadata": {
    "scrolled": true
   },
   "outputs": [
    {
     "data": {
      "text/plain": "((70000, 784), (70000,))"
     },
     "execution_count": 3,
     "metadata": {},
     "output_type": "execute_result"
    }
   ],
   "source": [
    "X_all.shape, y_all.shape"
   ]
  },
  {
   "cell_type": "markdown",
   "metadata": {},
   "source": [
    "La simulation avec toutes les images est assez longue à faire rouler. Utilisons uniquement un sous-ensemble de MNIST pour une simulation plus rapide."
   ]
  },
  {
   "cell_type": "code",
   "execution_count": 4,
   "metadata": {},
   "outputs": [],
   "source": [
    "X = X_all[:DATA_LIMIT] # Completed\n",
    "y = y_all[:DATA_LIMIT] # Completed"
   ]
  },
  {
   "cell_type": "markdown",
   "metadata": {},
   "source": [
    "Divisons MNIST en ensembles d'entrainement et de test pour entrainer et tester le modèle post-apprentissage.\n",
    "\n",
    "Si on travaille avec l'ensemble au complet, on peut prendre 10k pour le test par exemple."
   ]
  },
  {
   "cell_type": "code",
   "execution_count": 5,
   "metadata": {},
   "outputs": [],
   "source": [
    "X_train, X_test, y_train, y_test = model_selection.train_test_split(\n",
    "    X, y, test_size=TEST_SIZE) # Completed"
   ]
  },
  {
   "cell_type": "markdown",
   "metadata": {},
   "source": [
    "Dessinons une image aléatoire de l'ensemble de données pour voir ce à quoi ressemble MNIST.\n",
    "\n",
    "Les images dans MNIST sont des vecteurs. Il faut donc les ré-organiser en matrice 28x28 pour les afficher."
   ]
  },
  {
   "cell_type": "code",
   "execution_count": 6,
   "metadata": {},
   "outputs": [
    {
     "data": {
      "text/plain": "<Figure size 432x288 with 1 Axes>",
      "image/png": "[encoded data removed]"
     },
     "metadata": {
      "needs_background": "light"
     },
     "output_type": "display_data"
    }
   ],
   "source": [
    "index = np.random.randint(0, len(X_train)-1)\n",
    "\n",
    "plt.figure()\n",
    "plt.axis('off')\n",
    "plt.imshow(X_train[index].reshape(28, 28), cmap=plt.cm.gray_r)\n",
    "plt.title(\"Échantillon MNIST avec étiquette %s\" % y_train[index]);"
   ]
  },
  {
   "cell_type": "markdown",
   "metadata": {},
   "source": [
    "## Réseau de neurones Brian2\n",
    "\n",
    "On peut maintenant créer un réseau Brian2. Commençons par définir quelques paramètres."
   ]
  },
  {
   "cell_type": "code",
   "execution_count": 7,
   "metadata": {},
   "outputs": [],
   "source": [
    "# Fixons le seed aléatoire afin de pouvoir reproduire les résultats\n",
    "np.random.seed(0)\n",
    "\n",
    "# Horloge de Brian2\n",
    "defaultclock.dt = 0.5 * units.ms\n",
    "\n",
    "# Cible de génération de code pour Brian2\n",
    "prefs.codegen.target = 'cython'\n",
    "\n",
    "time_per_sample =   0.35 * units.second\n",
    "resting_time = 0.15 * units.second\n",
    "\n",
    "v_rest_e = -65. * units.mV \n",
    "v_rest_i = -60. * units.mV \n",
    "\n",
    "v_reset_e = -65. * units.mV\n",
    "v_reset_i = -45. * units.mV\n",
    "\n",
    "v_thresh_e = -52. * units.mV\n",
    "v_thresh_i = -40. * units.mV\n",
    "\n",
    "refrac_e = 5. * units.ms\n",
    "refrac_i = 2. * units.ms\n",
    "\n",
    "tc_theta = 1e7 * units.ms\n",
    "theta_plus_e = 0.05 * units.mV\n",
    "\n",
    "tc_pre_ee = 20 * units.ms\n",
    "tc_post_1_ee = 20 * units.ms\n",
    "tc_post_2_ee = 40 * units.ms\n",
    "\n",
    "# Taux d'apprentissage\n",
    "nu_ee_pre =  1 # [0, 1] Completed\n",
    "nu_ee_post = 1 # [0, 1] Completed"
   ]
  },
  {
   "cell_type": "markdown",
   "metadata": {},
   "source": [
    "Définissons l'entrée au réseau de neurones. L'entrée est un encodeur de type codage par fréquence."
   ]
  },
  {
   "cell_type": "code",
   "execution_count": 8,
   "metadata": {},
   "outputs": [],
   "source": [
    "input_rates = np.ones([1,784])  # Completed\n",
    "input_group = PoissonGroup(784, rates = input_rates*Hz) # Groupe de Poisson"
   ]
  },
  {
   "cell_type": "markdown",
   "metadata": {},
   "source": [
    "Définissons notre modèle de neurone ainsi que nos groupes de neurones."
   ]
  },
  {
   "cell_type": "code",
   "execution_count": 9,
   "metadata": {},
   "outputs": [],
   "source": [
    "neuron_model = '''\n",
    "    dv/dt = ((v_rest_e - v) + (I_synE + I_synI) / nS) / tau  : volt (unless refractory)\n",
    "\n",
    "    I_synE =  ge * nS * -v           : amp\n",
    "    \n",
    "    I_synI =  gi * nS * (d_I_synI-v) : amp\n",
    "    \n",
    "    dge/dt = -ge/(1.0*ms)            : 1\n",
    "    \n",
    "    dgi/dt = -gi/(2.0*ms)            : 1\n",
    "    \n",
    "    tau                              : second (constant, shared)\n",
    "    \n",
    "    d_I_synI                         : volt (constant, shared)\n",
    "    \n",
    "    dtheta/dt = -theta / (tc_theta)  : volt\n",
    "'''\n",
    "# Completed\n",
    "excitatory_group = NeuronGroup(\n",
    "    N=NUMBER_NODES_PER_LAYER, model=neuron_model, refractory='refrac_e', \n",
    "    threshold='v > v_thresh_e', reset='v = v_reset_e; theta += theta_plus_e', method='euler')\n",
    "excitatory_group.tau = 100 * units.ms\n",
    "excitatory_group.d_I_synI = -100. * units.mV\n",
    "\n",
    "# Completed\n",
    "inhibitory_group = NeuronGroup(\n",
    "    N=NUMBER_NODES_PER_LAYER, model=neuron_model, refractory='refrac_i', \n",
    "    threshold='v > v_thresh_i', reset='v = v_reset_i', method='euler')\n",
    "inhibitory_group.tau = 10 * units.ms\n",
    "inhibitory_group.d_I_synI = -85. * mV"
   ]
  },
  {
   "cell_type": "markdown",
   "metadata": {},
   "source": [
    "Et les synapses."
   ]
  },
  {
   "cell_type": "code",
   "execution_count": 10,
   "metadata": {},
   "outputs": [],
   "source": [
    "synapse_model = \"w : 1\"\n",
    "\n",
    "# Completed\n",
    "stdp_synapse_model = '''\n",
    "    w : 1\n",
    "\n",
    "    plastic : boolean (shared) # Activer/désactiver la plasticité\n",
    "    \n",
    "    post2before : 1\n",
    "\n",
    "    dpre/dt   =   -pre/(tc_pre_ee) : 1 (event-driven)\n",
    "\n",
    "    dpost1/dt  = -post1/(tc_post_1_ee) : 1 (event-driven)\n",
    "\n",
    "    dpost2/dt  = -post2/(tc_post_2_ee) : 1 (event-driven)\n",
    "\n",
    "    wmax = 1 : 1\n",
    "\n",
    "    mu = 1 : 1\n",
    "'''\n",
    "\n",
    "# Completed\n",
    "stdp_pre = '''\n",
    "    ge_post += w\n",
    "    \n",
    "    pre = 1\n",
    "    \n",
    "    w = clip(w + (nu_ee_pre * post1), 0, wmax)\n",
    "'''\n",
    "\n",
    "# Completed\n",
    "stdp_post = '''\n",
    "    post2before = post2\n",
    "    \n",
    "    w = clip(w + nu_ee_post*(pre-post2before)*(wmax - w)**mu, 0, wmax) # TODO Check equation\n",
    "    \n",
    "    post1 = 1\n",
    "\n",
    "    post2 = 1\n",
    "'''\n",
    "\n",
    "input_synapse = Synapses(input_group, excitatory_group, model=stdp_synapse_model, on_pre=stdp_pre, on_post=stdp_post,\n",
    "                         method='euler') # Completed\n",
    "input_synapse.connect(True) # Fully connected\n",
    "input_synapse.delay = '10 * ms' # Completed\n",
    "input_synapse.plastic = True\n",
    "input_synapse.w = '1' # Completed\n",
    "\n",
    "e_i_synapse = Synapses(excitatory_group, inhibitory_group, model=stdp_synapse_model, on_pre=stdp_pre, on_post=stdp_post,\n",
    "                       method='euler') # Completed\n",
    "e_i_synapse.connect(True, p=0.0025)\n",
    "e_i_synapse.w = 'rand()*10.4'\n",
    "\n",
    "i_e_synapse = Synapses(inhibitory_group, excitatory_group, model=stdp_synapse_model, on_pre=stdp_pre, on_post=stdp_post,\n",
    "                       method='euler') # Completed\n",
    "i_e_synapse.connect(True, p=0.9)\n",
    "i_e_synapse.w = 'rand()*17.0'"
   ]
  },
  {
   "cell_type": "markdown",
   "metadata": {},
   "source": [
    "Combien de synapses a-t-on dans le réseau?"
   ]
  },
  {
   "cell_type": "code",
   "execution_count": 11,
   "metadata": {
    "scrolled": true
   },
   "outputs": [
    {
     "name": "stdout",
     "output_type": "stream",
     "text": [
      "1169638\n"
     ]
    }
   ],
   "source": [
    "print(len(input_synapse) + len(e_i_synapse) + len(i_e_synapse))"
   ]
  },
  {
   "cell_type": "markdown",
   "metadata": {},
   "source": [
    "Définissons un 'readout' pour notre réseau."
   ]
  },
  {
   "cell_type": "code",
   "execution_count": 12,
   "metadata": {},
   "outputs": [],
   "source": [
    "e_monitor = SpikeMonitor(excitatory_group, record=False)"
   ]
  },
  {
   "cell_type": "markdown",
   "metadata": {},
   "source": [
    "Créons le réseau."
   ]
  },
  {
   "cell_type": "code",
   "execution_count": 13,
   "metadata": {},
   "outputs": [],
   "source": [
    "net = Network(input_group, excitatory_group, inhibitory_group, \n",
    "              input_synapse, e_i_synapse, i_e_synapse, e_monitor)"
   ]
  },
  {
   "cell_type": "markdown",
   "metadata": {},
   "source": [
    "## Entrainement\n",
    "\n",
    "Entrainons à présent notre réseau.\n",
    "\n",
    "Créons une matrice 'spikes' pour assigner les étiquettes des classes post-apprentissage. Cette matrice accumulera le décompte de décharges par classe.\n",
    "\n",
    "Notre readout 'e_monitor' est actif tout le long de la simulation avec toutes les images. Donc à chaque nouvelle présentation d'image, on doit soustraire l'ancien décompte de décharges. On utilisera le vecteur 'old_spike_counts' pour le faire. "
   ]
  },
  {
   "cell_type": "code",
   "execution_count": 14,
   "metadata": {
    "scrolled": false
   },
   "outputs": [
    {
     "name": "stdout",
     "output_type": "stream",
     "text": [
      "Starting epoch 0\n",
      "Running sample 0 out of 150\n",
      "Running sample 1 out of 150\n"
     ]
    },
    {
     "ename": "KeyboardInterrupt",
     "evalue": "",
     "output_type": "error",
     "traceback": [
      "\u001B[0;31m---------------------------------------------------------------------------\u001B[0m",
      "\u001B[0;31mKeyboardInterrupt\u001B[0m                         Traceback (most recent call last)",
      "\u001B[0;32m<ipython-input-14-8e4be948c0fb>\u001B[0m in \u001B[0;36m<module>\u001B[0;34m\u001B[0m\n\u001B[1;32m     27\u001B[0m \u001B[0;34m\u001B[0m\u001B[0m\n\u001B[1;32m     28\u001B[0m         \u001B[0;31m# Laisser les variables retourner à leurs valeurs de repos\u001B[0m\u001B[0;34m\u001B[0m\u001B[0;34m\u001B[0m\u001B[0;34m\u001B[0m\u001B[0m\n\u001B[0;32m---> 29\u001B[0;31m         \u001B[0mnet\u001B[0m\u001B[0;34m.\u001B[0m\u001B[0mrun\u001B[0m\u001B[0;34m(\u001B[0m\u001B[0mresting_time\u001B[0m\u001B[0;34m)\u001B[0m\u001B[0;34m\u001B[0m\u001B[0;34m\u001B[0m\u001B[0m\n\u001B[0m\u001B[1;32m     30\u001B[0m \u001B[0;34m\u001B[0m\u001B[0m\n\u001B[1;32m     31\u001B[0m         \u001B[0;31m# Normaliser les poids\u001B[0m\u001B[0;34m\u001B[0m\u001B[0;34m\u001B[0m\u001B[0;34m\u001B[0m\u001B[0m\n",
      "\u001B[0;32m/mnt/data/Workplace/gei723/venv/lib/python3.8/site-packages/brian2/core/base.py\u001B[0m in \u001B[0;36mdevice_override_decorated_function\u001B[0;34m(*args, **kwds)\u001B[0m\n\u001B[1;32m    276\u001B[0m                 \u001B[0;32mreturn\u001B[0m \u001B[0mgetattr\u001B[0m\u001B[0;34m(\u001B[0m\u001B[0mcurdev\u001B[0m\u001B[0;34m,\u001B[0m \u001B[0mname\u001B[0m\u001B[0;34m)\u001B[0m\u001B[0;34m(\u001B[0m\u001B[0;34m*\u001B[0m\u001B[0margs\u001B[0m\u001B[0;34m,\u001B[0m \u001B[0;34m**\u001B[0m\u001B[0mkwds\u001B[0m\u001B[0;34m)\u001B[0m\u001B[0;34m\u001B[0m\u001B[0;34m\u001B[0m\u001B[0m\n\u001B[1;32m    277\u001B[0m             \u001B[0;32melse\u001B[0m\u001B[0;34m:\u001B[0m\u001B[0;34m\u001B[0m\u001B[0;34m\u001B[0m\u001B[0m\n\u001B[0;32m--> 278\u001B[0;31m                 \u001B[0;32mreturn\u001B[0m \u001B[0mfunc\u001B[0m\u001B[0;34m(\u001B[0m\u001B[0;34m*\u001B[0m\u001B[0margs\u001B[0m\u001B[0;34m,\u001B[0m \u001B[0;34m**\u001B[0m\u001B[0mkwds\u001B[0m\u001B[0;34m)\u001B[0m\u001B[0;34m\u001B[0m\u001B[0;34m\u001B[0m\u001B[0m\n\u001B[0m\u001B[1;32m    279\u001B[0m \u001B[0;34m\u001B[0m\u001B[0m\n\u001B[1;32m    280\u001B[0m         \u001B[0mdevice_override_decorated_function\u001B[0m\u001B[0;34m.\u001B[0m\u001B[0m__doc__\u001B[0m \u001B[0;34m=\u001B[0m \u001B[0mfunc\u001B[0m\u001B[0;34m.\u001B[0m\u001B[0m__doc__\u001B[0m\u001B[0;34m\u001B[0m\u001B[0;34m\u001B[0m\u001B[0m\n",
      "\u001B[0;32m/mnt/data/Workplace/gei723/venv/lib/python3.8/site-packages/brian2/units/fundamentalunits.py\u001B[0m in \u001B[0;36mnew_f\u001B[0;34m(*args, **kwds)\u001B[0m\n\u001B[1;32m   2432\u001B[0m                                                      get_dimensions(newkeyset[k]))\n\u001B[1;32m   2433\u001B[0m \u001B[0;34m\u001B[0m\u001B[0m\n\u001B[0;32m-> 2434\u001B[0;31m             \u001B[0mresult\u001B[0m \u001B[0;34m=\u001B[0m \u001B[0mf\u001B[0m\u001B[0;34m(\u001B[0m\u001B[0;34m*\u001B[0m\u001B[0margs\u001B[0m\u001B[0;34m,\u001B[0m \u001B[0;34m**\u001B[0m\u001B[0mkwds\u001B[0m\u001B[0;34m)\u001B[0m\u001B[0;34m\u001B[0m\u001B[0;34m\u001B[0m\u001B[0m\n\u001B[0m\u001B[1;32m   2435\u001B[0m             \u001B[0;32mif\u001B[0m \u001B[0;34m'result'\u001B[0m \u001B[0;32min\u001B[0m \u001B[0mau\u001B[0m\u001B[0;34m:\u001B[0m\u001B[0;34m\u001B[0m\u001B[0;34m\u001B[0m\u001B[0m\n\u001B[1;32m   2436\u001B[0m                 \u001B[0;32mif\u001B[0m \u001B[0misinstance\u001B[0m\u001B[0;34m(\u001B[0m\u001B[0mau\u001B[0m\u001B[0;34m[\u001B[0m\u001B[0;34m'result'\u001B[0m\u001B[0;34m]\u001B[0m\u001B[0;34m,\u001B[0m \u001B[0mCallable\u001B[0m\u001B[0;34m)\u001B[0m \u001B[0;32mand\u001B[0m \u001B[0mau\u001B[0m\u001B[0;34m[\u001B[0m\u001B[0;34m'result'\u001B[0m\u001B[0;34m]\u001B[0m \u001B[0;34m!=\u001B[0m \u001B[0mbool\u001B[0m\u001B[0;34m:\u001B[0m\u001B[0;34m\u001B[0m\u001B[0;34m\u001B[0m\u001B[0m\n",
      "\u001B[0;32m/mnt/data/Workplace/gei723/venv/lib/python3.8/site-packages/brian2/core/network.py\u001B[0m in \u001B[0;36mrun\u001B[0;34m(self, duration, report, report_period, namespace, profile, level)\u001B[0m\n\u001B[1;32m   1006\u001B[0m             \u001B[0mnamespace\u001B[0m \u001B[0;34m=\u001B[0m \u001B[0mget_local_namespace\u001B[0m\u001B[0;34m(\u001B[0m\u001B[0mlevel\u001B[0m\u001B[0;34m=\u001B[0m\u001B[0mlevel\u001B[0m\u001B[0;34m+\u001B[0m\u001B[0;36m3\u001B[0m\u001B[0;34m)\u001B[0m\u001B[0;34m\u001B[0m\u001B[0;34m\u001B[0m\u001B[0m\n\u001B[1;32m   1007\u001B[0m \u001B[0;34m\u001B[0m\u001B[0m\n\u001B[0;32m-> 1008\u001B[0;31m         \u001B[0mself\u001B[0m\u001B[0;34m.\u001B[0m\u001B[0mbefore_run\u001B[0m\u001B[0;34m(\u001B[0m\u001B[0mnamespace\u001B[0m\u001B[0;34m)\u001B[0m\u001B[0;34m\u001B[0m\u001B[0;34m\u001B[0m\u001B[0m\n\u001B[0m\u001B[1;32m   1009\u001B[0m \u001B[0;34m\u001B[0m\u001B[0m\n\u001B[1;32m   1010\u001B[0m         \u001B[0;32mif\u001B[0m \u001B[0mlen\u001B[0m\u001B[0;34m(\u001B[0m\u001B[0mall_objects\u001B[0m\u001B[0;34m)\u001B[0m \u001B[0;34m==\u001B[0m \u001B[0;36m0\u001B[0m\u001B[0;34m:\u001B[0m\u001B[0;34m\u001B[0m\u001B[0;34m\u001B[0m\u001B[0m\n",
      "\u001B[0;32m/mnt/data/Workplace/gei723/venv/lib/python3.8/site-packages/brian2/core/base.py\u001B[0m in \u001B[0;36mdevice_override_decorated_function\u001B[0;34m(*args, **kwds)\u001B[0m\n\u001B[1;32m    276\u001B[0m                 \u001B[0;32mreturn\u001B[0m \u001B[0mgetattr\u001B[0m\u001B[0;34m(\u001B[0m\u001B[0mcurdev\u001B[0m\u001B[0;34m,\u001B[0m \u001B[0mname\u001B[0m\u001B[0;34m)\u001B[0m\u001B[0;34m(\u001B[0m\u001B[0;34m*\u001B[0m\u001B[0margs\u001B[0m\u001B[0;34m,\u001B[0m \u001B[0;34m**\u001B[0m\u001B[0mkwds\u001B[0m\u001B[0;34m)\u001B[0m\u001B[0;34m\u001B[0m\u001B[0;34m\u001B[0m\u001B[0m\n\u001B[1;32m    277\u001B[0m             \u001B[0;32melse\u001B[0m\u001B[0;34m:\u001B[0m\u001B[0;34m\u001B[0m\u001B[0;34m\u001B[0m\u001B[0m\n\u001B[0;32m--> 278\u001B[0;31m                 \u001B[0;32mreturn\u001B[0m \u001B[0mfunc\u001B[0m\u001B[0;34m(\u001B[0m\u001B[0;34m*\u001B[0m\u001B[0margs\u001B[0m\u001B[0;34m,\u001B[0m \u001B[0;34m**\u001B[0m\u001B[0mkwds\u001B[0m\u001B[0;34m)\u001B[0m\u001B[0;34m\u001B[0m\u001B[0;34m\u001B[0m\u001B[0m\n\u001B[0m\u001B[1;32m    279\u001B[0m \u001B[0;34m\u001B[0m\u001B[0m\n\u001B[1;32m    280\u001B[0m         \u001B[0mdevice_override_decorated_function\u001B[0m\u001B[0;34m.\u001B[0m\u001B[0m__doc__\u001B[0m \u001B[0;34m=\u001B[0m \u001B[0mfunc\u001B[0m\u001B[0;34m.\u001B[0m\u001B[0m__doc__\u001B[0m\u001B[0;34m\u001B[0m\u001B[0;34m\u001B[0m\u001B[0m\n",
      "\u001B[0;32m/mnt/data/Workplace/gei723/venv/lib/python3.8/site-packages/brian2/core/network.py\u001B[0m in \u001B[0;36mbefore_run\u001B[0;34m(self, run_namespace)\u001B[0m\n\u001B[1;32m    895\u001B[0m             \u001B[0;32mif\u001B[0m \u001B[0mobj\u001B[0m\u001B[0;34m.\u001B[0m\u001B[0mactive\u001B[0m\u001B[0;34m:\u001B[0m\u001B[0;34m\u001B[0m\u001B[0;34m\u001B[0m\u001B[0m\n\u001B[1;32m    896\u001B[0m                 \u001B[0;32mtry\u001B[0m\u001B[0;34m:\u001B[0m\u001B[0;34m\u001B[0m\u001B[0;34m\u001B[0m\u001B[0m\n\u001B[0;32m--> 897\u001B[0;31m                     \u001B[0mobj\u001B[0m\u001B[0;34m.\u001B[0m\u001B[0mbefore_run\u001B[0m\u001B[0;34m(\u001B[0m\u001B[0mrun_namespace\u001B[0m\u001B[0;34m)\u001B[0m\u001B[0;34m\u001B[0m\u001B[0;34m\u001B[0m\u001B[0m\n\u001B[0m\u001B[1;32m    898\u001B[0m                 \u001B[0;32mexcept\u001B[0m \u001B[0mException\u001B[0m \u001B[0;32mas\u001B[0m \u001B[0mex\u001B[0m\u001B[0;34m:\u001B[0m\u001B[0;34m\u001B[0m\u001B[0;34m\u001B[0m\u001B[0m\n\u001B[1;32m    899\u001B[0m                     \u001B[0;32mraise\u001B[0m \u001B[0mBrianObjectException\u001B[0m\u001B[0;34m(\u001B[0m\u001B[0;34m\"An error occurred when preparing an object.\"\u001B[0m\u001B[0;34m,\u001B[0m \u001B[0mobj\u001B[0m\u001B[0;34m)\u001B[0m \u001B[0;32mfrom\u001B[0m \u001B[0mex\u001B[0m\u001B[0;34m\u001B[0m\u001B[0;34m\u001B[0m\u001B[0m\n",
      "\u001B[0;32m/mnt/data/Workplace/gei723/venv/lib/python3.8/site-packages/brian2/core/base.py\u001B[0m in \u001B[0;36mdevice_override_decorated_function\u001B[0;34m(*args, **kwds)\u001B[0m\n\u001B[1;32m    276\u001B[0m                 \u001B[0;32mreturn\u001B[0m \u001B[0mgetattr\u001B[0m\u001B[0;34m(\u001B[0m\u001B[0mcurdev\u001B[0m\u001B[0;34m,\u001B[0m \u001B[0mname\u001B[0m\u001B[0;34m)\u001B[0m\u001B[0;34m(\u001B[0m\u001B[0;34m*\u001B[0m\u001B[0margs\u001B[0m\u001B[0;34m,\u001B[0m \u001B[0;34m**\u001B[0m\u001B[0mkwds\u001B[0m\u001B[0;34m)\u001B[0m\u001B[0;34m\u001B[0m\u001B[0;34m\u001B[0m\u001B[0m\n\u001B[1;32m    277\u001B[0m             \u001B[0;32melse\u001B[0m\u001B[0;34m:\u001B[0m\u001B[0;34m\u001B[0m\u001B[0;34m\u001B[0m\u001B[0m\n\u001B[0;32m--> 278\u001B[0;31m                 \u001B[0;32mreturn\u001B[0m \u001B[0mfunc\u001B[0m\u001B[0;34m(\u001B[0m\u001B[0;34m*\u001B[0m\u001B[0margs\u001B[0m\u001B[0;34m,\u001B[0m \u001B[0;34m**\u001B[0m\u001B[0mkwds\u001B[0m\u001B[0;34m)\u001B[0m\u001B[0;34m\u001B[0m\u001B[0;34m\u001B[0m\u001B[0m\n\u001B[0m\u001B[1;32m    279\u001B[0m \u001B[0;34m\u001B[0m\u001B[0m\n\u001B[1;32m    280\u001B[0m         \u001B[0mdevice_override_decorated_function\u001B[0m\u001B[0;34m.\u001B[0m\u001B[0m__doc__\u001B[0m \u001B[0;34m=\u001B[0m \u001B[0mfunc\u001B[0m\u001B[0;34m.\u001B[0m\u001B[0m__doc__\u001B[0m\u001B[0;34m\u001B[0m\u001B[0;34m\u001B[0m\u001B[0m\n",
      "\u001B[0;32m/mnt/data/Workplace/gei723/venv/lib/python3.8/site-packages/brian2/synapses/synapses.py\u001B[0m in \u001B[0;36mbefore_run\u001B[0;34m(self, run_namespace)\u001B[0m\n\u001B[1;32m    318\u001B[0m     \u001B[0;34m@\u001B[0m\u001B[0mdevice_override\u001B[0m\u001B[0;34m(\u001B[0m\u001B[0;34m'synaptic_pathway_before_run'\u001B[0m\u001B[0;34m)\u001B[0m\u001B[0;34m\u001B[0m\u001B[0;34m\u001B[0m\u001B[0m\n\u001B[1;32m    319\u001B[0m     \u001B[0;32mdef\u001B[0m \u001B[0mbefore_run\u001B[0m\u001B[0;34m(\u001B[0m\u001B[0mself\u001B[0m\u001B[0;34m,\u001B[0m \u001B[0mrun_namespace\u001B[0m\u001B[0;34m)\u001B[0m\u001B[0;34m:\u001B[0m\u001B[0;34m\u001B[0m\u001B[0;34m\u001B[0m\u001B[0m\n\u001B[0;32m--> 320\u001B[0;31m         \u001B[0msuper\u001B[0m\u001B[0;34m(\u001B[0m\u001B[0mSynapticPathway\u001B[0m\u001B[0;34m,\u001B[0m \u001B[0mself\u001B[0m\u001B[0;34m)\u001B[0m\u001B[0;34m.\u001B[0m\u001B[0mbefore_run\u001B[0m\u001B[0;34m(\u001B[0m\u001B[0mrun_namespace\u001B[0m\u001B[0;34m)\u001B[0m\u001B[0;34m\u001B[0m\u001B[0;34m\u001B[0m\u001B[0m\n\u001B[0m\u001B[1;32m    321\u001B[0m \u001B[0;34m\u001B[0m\u001B[0m\n\u001B[1;32m    322\u001B[0m     \u001B[0;32mdef\u001B[0m \u001B[0mcreate_code_objects\u001B[0m\u001B[0;34m(\u001B[0m\u001B[0mself\u001B[0m\u001B[0;34m,\u001B[0m \u001B[0mrun_namespace\u001B[0m\u001B[0;34m)\u001B[0m\u001B[0;34m:\u001B[0m\u001B[0;34m\u001B[0m\u001B[0;34m\u001B[0m\u001B[0m\n",
      "\u001B[0;32m/mnt/data/Workplace/gei723/venv/lib/python3.8/site-packages/brian2/groups/group.py\u001B[0m in \u001B[0;36mbefore_run\u001B[0;34m(self, run_namespace)\u001B[0m\n\u001B[1;32m   1141\u001B[0m \u001B[0;34m\u001B[0m\u001B[0m\n\u001B[1;32m   1142\u001B[0m     \u001B[0;32mdef\u001B[0m \u001B[0mbefore_run\u001B[0m\u001B[0;34m(\u001B[0m\u001B[0mself\u001B[0m\u001B[0;34m,\u001B[0m \u001B[0mrun_namespace\u001B[0m\u001B[0;34m)\u001B[0m\u001B[0;34m:\u001B[0m\u001B[0;34m\u001B[0m\u001B[0;34m\u001B[0m\u001B[0m\n\u001B[0;32m-> 1143\u001B[0;31m         \u001B[0mself\u001B[0m\u001B[0;34m.\u001B[0m\u001B[0mcreate_code_objects\u001B[0m\u001B[0;34m(\u001B[0m\u001B[0mrun_namespace\u001B[0m\u001B[0;34m)\u001B[0m\u001B[0;34m\u001B[0m\u001B[0;34m\u001B[0m\u001B[0m\n\u001B[0m\u001B[1;32m   1144\u001B[0m         \u001B[0msuper\u001B[0m\u001B[0;34m(\u001B[0m\u001B[0mCodeRunner\u001B[0m\u001B[0;34m,\u001B[0m \u001B[0mself\u001B[0m\u001B[0;34m)\u001B[0m\u001B[0;34m.\u001B[0m\u001B[0mbefore_run\u001B[0m\u001B[0;34m(\u001B[0m\u001B[0mrun_namespace\u001B[0m\u001B[0;34m)\u001B[0m\u001B[0;34m\u001B[0m\u001B[0;34m\u001B[0m\u001B[0m\n",
      "\u001B[0;32m/mnt/data/Workplace/gei723/venv/lib/python3.8/site-packages/brian2/synapses/synapses.py\u001B[0m in \u001B[0;36mcreate_code_objects\u001B[0;34m(self, run_namespace)\u001B[0m\n\u001B[1;32m    341\u001B[0m                                                              run_namespace=run_namespace)\n\u001B[1;32m    342\u001B[0m         self.code_objects[:] = [weakref.proxy(self._pushspikes_codeobj),\n\u001B[0;32m--> 343\u001B[0;31m                                 weakref.proxy(self.create_default_code_object(run_namespace))]\n\u001B[0m\u001B[1;32m    344\u001B[0m \u001B[0;34m\u001B[0m\u001B[0m\n\u001B[1;32m    345\u001B[0m     \u001B[0;32mdef\u001B[0m \u001B[0minitialise_queue\u001B[0m\u001B[0;34m(\u001B[0m\u001B[0mself\u001B[0m\u001B[0;34m)\u001B[0m\u001B[0;34m:\u001B[0m\u001B[0;34m\u001B[0m\u001B[0;34m\u001B[0m\u001B[0m\n",
      "\u001B[0;32m/mnt/data/Workplace/gei723/venv/lib/python3.8/site-packages/brian2/groups/group.py\u001B[0m in \u001B[0;36mcreate_default_code_object\u001B[0;34m(self, run_namespace)\u001B[0m\n\u001B[1;32m   1106\u001B[0m \u001B[0;34m\u001B[0m\u001B[0m\n\u001B[1;32m   1107\u001B[0m     \u001B[0;32mdef\u001B[0m \u001B[0mcreate_default_code_object\u001B[0m\u001B[0;34m(\u001B[0m\u001B[0mself\u001B[0m\u001B[0;34m,\u001B[0m \u001B[0mrun_namespace\u001B[0m\u001B[0;34m)\u001B[0m\u001B[0;34m:\u001B[0m\u001B[0;34m\u001B[0m\u001B[0;34m\u001B[0m\u001B[0m\n\u001B[0;32m-> 1108\u001B[0;31m         \u001B[0mself\u001B[0m\u001B[0;34m.\u001B[0m\u001B[0mupdate_abstract_code\u001B[0m\u001B[0;34m(\u001B[0m\u001B[0mrun_namespace\u001B[0m\u001B[0;34m=\u001B[0m\u001B[0mrun_namespace\u001B[0m\u001B[0;34m)\u001B[0m\u001B[0;34m\u001B[0m\u001B[0;34m\u001B[0m\u001B[0m\n\u001B[0m\u001B[1;32m   1109\u001B[0m         \u001B[0;31m# If the CodeRunner has variables, add them\u001B[0m\u001B[0;34m\u001B[0m\u001B[0;34m\u001B[0m\u001B[0;34m\u001B[0m\u001B[0m\n\u001B[1;32m   1110\u001B[0m         \u001B[0;32mif\u001B[0m \u001B[0mhasattr\u001B[0m\u001B[0;34m(\u001B[0m\u001B[0mself\u001B[0m\u001B[0;34m,\u001B[0m \u001B[0;34m'variables'\u001B[0m\u001B[0;34m)\u001B[0m\u001B[0;34m:\u001B[0m\u001B[0;34m\u001B[0m\u001B[0;34m\u001B[0m\u001B[0m\n",
      "\u001B[0;32m/mnt/data/Workplace/gei723/venv/lib/python3.8/site-packages/brian2/core/base.py\u001B[0m in \u001B[0;36mdevice_override_decorated_function\u001B[0;34m(*args, **kwds)\u001B[0m\n\u001B[1;32m    276\u001B[0m                 \u001B[0;32mreturn\u001B[0m \u001B[0mgetattr\u001B[0m\u001B[0;34m(\u001B[0m\u001B[0mcurdev\u001B[0m\u001B[0;34m,\u001B[0m \u001B[0mname\u001B[0m\u001B[0;34m)\u001B[0m\u001B[0;34m(\u001B[0m\u001B[0;34m*\u001B[0m\u001B[0margs\u001B[0m\u001B[0;34m,\u001B[0m \u001B[0;34m**\u001B[0m\u001B[0mkwds\u001B[0m\u001B[0;34m)\u001B[0m\u001B[0;34m\u001B[0m\u001B[0;34m\u001B[0m\u001B[0m\n\u001B[1;32m    277\u001B[0m             \u001B[0;32melse\u001B[0m\u001B[0;34m:\u001B[0m\u001B[0;34m\u001B[0m\u001B[0;34m\u001B[0m\u001B[0m\n\u001B[0;32m--> 278\u001B[0;31m                 \u001B[0;32mreturn\u001B[0m \u001B[0mfunc\u001B[0m\u001B[0;34m(\u001B[0m\u001B[0;34m*\u001B[0m\u001B[0margs\u001B[0m\u001B[0;34m,\u001B[0m \u001B[0;34m**\u001B[0m\u001B[0mkwds\u001B[0m\u001B[0;34m)\u001B[0m\u001B[0;34m\u001B[0m\u001B[0;34m\u001B[0m\u001B[0m\n\u001B[0m\u001B[1;32m    279\u001B[0m \u001B[0;34m\u001B[0m\u001B[0m\n\u001B[1;32m    280\u001B[0m         \u001B[0mdevice_override_decorated_function\u001B[0m\u001B[0;34m.\u001B[0m\u001B[0m__doc__\u001B[0m \u001B[0;34m=\u001B[0m \u001B[0mfunc\u001B[0m\u001B[0;34m.\u001B[0m\u001B[0m__doc__\u001B[0m\u001B[0;34m\u001B[0m\u001B[0;34m\u001B[0m\u001B[0m\n",
      "\u001B[0;32m/mnt/data/Workplace/gei723/venv/lib/python3.8/site-packages/brian2/synapses/synapses.py\u001B[0m in \u001B[0;36mupdate_abstract_code\u001B[0;34m(self, run_namespace, level)\u001B[0m\n\u001B[1;32m    285\u001B[0m             \u001B[0mclock_driven_eqs\u001B[0m \u001B[0;34m=\u001B[0m \u001B[0mself\u001B[0m\u001B[0;34m.\u001B[0m\u001B[0msynapses\u001B[0m\u001B[0;34m.\u001B[0m\u001B[0mequations\u001B[0m\u001B[0;34m\u001B[0m\u001B[0;34m\u001B[0m\u001B[0m\n\u001B[1;32m    286\u001B[0m             \u001B[0;32mtry\u001B[0m\u001B[0;34m:\u001B[0m\u001B[0;34m\u001B[0m\u001B[0;34m\u001B[0m\u001B[0m\n\u001B[0;32m--> 287\u001B[0;31m                 event_driven_update = linear(event_driven_eqs,\n\u001B[0m\u001B[1;32m    288\u001B[0m                                              self.group.variables)\n\u001B[1;32m    289\u001B[0m             \u001B[0;32mexcept\u001B[0m \u001B[0mUnsupportedEquationsException\u001B[0m\u001B[0;34m:\u001B[0m\u001B[0;34m\u001B[0m\u001B[0;34m\u001B[0m\u001B[0m\n",
      "\u001B[0;32m/mnt/data/Workplace/gei723/venv/lib/python3.8/site-packages/brian2/stateupdaters/exact.py\u001B[0m in \u001B[0;36m__call__\u001B[0;34m(self, equations, variables, method_options)\u001B[0m\n\u001B[1;32m    204\u001B[0m         \u001B[0mdt\u001B[0m \u001B[0;34m=\u001B[0m \u001B[0mSymbol\u001B[0m\u001B[0;34m(\u001B[0m\u001B[0;34m'dt'\u001B[0m\u001B[0;34m,\u001B[0m \u001B[0mreal\u001B[0m\u001B[0;34m=\u001B[0m\u001B[0;32mTrue\u001B[0m\u001B[0;34m,\u001B[0m \u001B[0mpositive\u001B[0m\u001B[0;34m=\u001B[0m\u001B[0;32mTrue\u001B[0m\u001B[0;34m)\u001B[0m\u001B[0;34m\u001B[0m\u001B[0;34m\u001B[0m\u001B[0m\n\u001B[1;32m    205\u001B[0m         \u001B[0;32mtry\u001B[0m\u001B[0;34m:\u001B[0m\u001B[0;34m\u001B[0m\u001B[0;34m\u001B[0m\u001B[0m\n\u001B[0;32m--> 206\u001B[0;31m             \u001B[0mA\u001B[0m \u001B[0;34m=\u001B[0m \u001B[0;34m(\u001B[0m\u001B[0mmatrix\u001B[0m \u001B[0;34m*\u001B[0m \u001B[0mdt\u001B[0m\u001B[0;34m)\u001B[0m\u001B[0;34m.\u001B[0m\u001B[0mexp\u001B[0m\u001B[0;34m(\u001B[0m\u001B[0;34m)\u001B[0m\u001B[0;34m\u001B[0m\u001B[0;34m\u001B[0m\u001B[0m\n\u001B[0m\u001B[1;32m    207\u001B[0m         \u001B[0;32mexcept\u001B[0m \u001B[0mNotImplementedError\u001B[0m\u001B[0;34m:\u001B[0m\u001B[0;34m\u001B[0m\u001B[0;34m\u001B[0m\u001B[0m\n\u001B[1;32m    208\u001B[0m             raise UnsupportedEquationsException('Cannot solve the given '\n",
      "\u001B[0;32m/mnt/data/Workplace/gei723/venv/lib/python3.8/site-packages/sympy/matrices/matrices.py\u001B[0m in \u001B[0;36mexp\u001B[0;34m(self)\u001B[0m\n\u001B[1;32m   1620\u001B[0m                 \"Exponentiation is valid only for square matrices\")\n\u001B[1;32m   1621\u001B[0m         \u001B[0;32mtry\u001B[0m\u001B[0;34m:\u001B[0m\u001B[0;34m\u001B[0m\u001B[0;34m\u001B[0m\u001B[0m\n\u001B[0;32m-> 1622\u001B[0;31m             \u001B[0mP\u001B[0m\u001B[0;34m,\u001B[0m \u001B[0mJ\u001B[0m \u001B[0;34m=\u001B[0m \u001B[0mself\u001B[0m\u001B[0;34m.\u001B[0m\u001B[0mjordan_form\u001B[0m\u001B[0;34m(\u001B[0m\u001B[0;34m)\u001B[0m\u001B[0;34m\u001B[0m\u001B[0;34m\u001B[0m\u001B[0m\n\u001B[0m\u001B[1;32m   1623\u001B[0m             \u001B[0mcells\u001B[0m \u001B[0;34m=\u001B[0m \u001B[0mJ\u001B[0m\u001B[0;34m.\u001B[0m\u001B[0mget_diag_blocks\u001B[0m\u001B[0;34m(\u001B[0m\u001B[0;34m)\u001B[0m\u001B[0;34m\u001B[0m\u001B[0;34m\u001B[0m\u001B[0m\n\u001B[1;32m   1624\u001B[0m         \u001B[0;32mexcept\u001B[0m \u001B[0mMatrixError\u001B[0m\u001B[0;34m:\u001B[0m\u001B[0;34m\u001B[0m\u001B[0;34m\u001B[0m\u001B[0m\n",
      "\u001B[0;32m/mnt/data/Workplace/gei723/venv/lib/python3.8/site-packages/sympy/matrices/matrices.py\u001B[0m in \u001B[0;36mjordan_form\u001B[0;34m(self, calc_transform, **kwargs)\u001B[0m\n\u001B[1;32m    405\u001B[0m \u001B[0;34m\u001B[0m\u001B[0m\n\u001B[1;32m    406\u001B[0m     \u001B[0;32mdef\u001B[0m \u001B[0mjordan_form\u001B[0m\u001B[0;34m(\u001B[0m\u001B[0mself\u001B[0m\u001B[0;34m,\u001B[0m \u001B[0mcalc_transform\u001B[0m\u001B[0;34m=\u001B[0m\u001B[0;32mTrue\u001B[0m\u001B[0;34m,\u001B[0m \u001B[0;34m**\u001B[0m\u001B[0mkwargs\u001B[0m\u001B[0;34m)\u001B[0m\u001B[0;34m:\u001B[0m\u001B[0;34m\u001B[0m\u001B[0;34m\u001B[0m\u001B[0m\n\u001B[0;32m--> 407\u001B[0;31m         \u001B[0;32mreturn\u001B[0m \u001B[0m_jordan_form\u001B[0m\u001B[0;34m(\u001B[0m\u001B[0mself\u001B[0m\u001B[0;34m,\u001B[0m \u001B[0mcalc_transform\u001B[0m\u001B[0;34m=\u001B[0m\u001B[0mcalc_transform\u001B[0m\u001B[0;34m,\u001B[0m \u001B[0;34m**\u001B[0m\u001B[0mkwargs\u001B[0m\u001B[0;34m)\u001B[0m\u001B[0;34m\u001B[0m\u001B[0;34m\u001B[0m\u001B[0m\n\u001B[0m\u001B[1;32m    408\u001B[0m \u001B[0;34m\u001B[0m\u001B[0m\n\u001B[1;32m    409\u001B[0m     \u001B[0;32mdef\u001B[0m \u001B[0mleft_eigenvects\u001B[0m\u001B[0;34m(\u001B[0m\u001B[0mself\u001B[0m\u001B[0;34m,\u001B[0m \u001B[0;34m**\u001B[0m\u001B[0mflags\u001B[0m\u001B[0;34m)\u001B[0m\u001B[0;34m:\u001B[0m\u001B[0;34m\u001B[0m\u001B[0;34m\u001B[0m\u001B[0m\n",
      "\u001B[0;32m/mnt/data/Workplace/gei723/venv/lib/python3.8/site-packages/sympy/matrices/eigen.py\u001B[0m in \u001B[0;36m_jordan_form\u001B[0;34m(M, calc_transform, **kwargs)\u001B[0m\n\u001B[1;32m    963\u001B[0m             \u001B[0;32mreturn\u001B[0m \u001B[0mrestore_floats\u001B[0m\u001B[0;34m(\u001B[0m\u001B[0mjordan_mat\u001B[0m\u001B[0;34m)\u001B[0m\u001B[0;34m\u001B[0m\u001B[0;34m\u001B[0m\u001B[0m\n\u001B[1;32m    964\u001B[0m \u001B[0;34m\u001B[0m\u001B[0m\n\u001B[0;32m--> 965\u001B[0;31m         jordan_basis = [eig_mat(eig, 1).nullspace()[0]\n\u001B[0m\u001B[1;32m    966\u001B[0m                 for eig in blocks]\n\u001B[1;32m    967\u001B[0m         \u001B[0mbasis_mat\u001B[0m    \u001B[0;34m=\u001B[0m \u001B[0mmat\u001B[0m\u001B[0;34m.\u001B[0m\u001B[0mhstack\u001B[0m\u001B[0;34m(\u001B[0m\u001B[0;34m*\u001B[0m\u001B[0mjordan_basis\u001B[0m\u001B[0;34m)\u001B[0m\u001B[0;34m\u001B[0m\u001B[0;34m\u001B[0m\u001B[0m\n",
      "\u001B[0;32m/mnt/data/Workplace/gei723/venv/lib/python3.8/site-packages/sympy/matrices/eigen.py\u001B[0m in \u001B[0;36m<listcomp>\u001B[0;34m(.0)\u001B[0m\n\u001B[1;32m    963\u001B[0m             \u001B[0;32mreturn\u001B[0m \u001B[0mrestore_floats\u001B[0m\u001B[0;34m(\u001B[0m\u001B[0mjordan_mat\u001B[0m\u001B[0;34m)\u001B[0m\u001B[0;34m\u001B[0m\u001B[0;34m\u001B[0m\u001B[0m\n\u001B[1;32m    964\u001B[0m \u001B[0;34m\u001B[0m\u001B[0m\n\u001B[0;32m--> 965\u001B[0;31m         jordan_basis = [eig_mat(eig, 1).nullspace()[0]\n\u001B[0m\u001B[1;32m    966\u001B[0m                 for eig in blocks]\n\u001B[1;32m    967\u001B[0m         \u001B[0mbasis_mat\u001B[0m    \u001B[0;34m=\u001B[0m \u001B[0mmat\u001B[0m\u001B[0;34m.\u001B[0m\u001B[0mhstack\u001B[0m\u001B[0;34m(\u001B[0m\u001B[0;34m*\u001B[0m\u001B[0mjordan_basis\u001B[0m\u001B[0;34m)\u001B[0m\u001B[0;34m\u001B[0m\u001B[0;34m\u001B[0m\u001B[0m\n",
      "\u001B[0;32m/mnt/data/Workplace/gei723/venv/lib/python3.8/site-packages/sympy/matrices/matrices.py\u001B[0m in \u001B[0;36mnullspace\u001B[0;34m(self, simplify, iszerofunc)\u001B[0m\n\u001B[1;32m    340\u001B[0m \u001B[0;34m\u001B[0m\u001B[0m\n\u001B[1;32m    341\u001B[0m     \u001B[0;32mdef\u001B[0m \u001B[0mnullspace\u001B[0m\u001B[0;34m(\u001B[0m\u001B[0mself\u001B[0m\u001B[0;34m,\u001B[0m \u001B[0msimplify\u001B[0m\u001B[0;34m=\u001B[0m\u001B[0;32mFalse\u001B[0m\u001B[0;34m,\u001B[0m \u001B[0miszerofunc\u001B[0m\u001B[0;34m=\u001B[0m\u001B[0m_iszero\u001B[0m\u001B[0;34m)\u001B[0m\u001B[0;34m:\u001B[0m\u001B[0;34m\u001B[0m\u001B[0;34m\u001B[0m\u001B[0m\n\u001B[0;32m--> 342\u001B[0;31m         \u001B[0;32mreturn\u001B[0m \u001B[0m_nullspace\u001B[0m\u001B[0;34m(\u001B[0m\u001B[0mself\u001B[0m\u001B[0;34m,\u001B[0m \u001B[0msimplify\u001B[0m\u001B[0;34m=\u001B[0m\u001B[0msimplify\u001B[0m\u001B[0;34m,\u001B[0m \u001B[0miszerofunc\u001B[0m\u001B[0;34m=\u001B[0m\u001B[0miszerofunc\u001B[0m\u001B[0;34m)\u001B[0m\u001B[0;34m\u001B[0m\u001B[0;34m\u001B[0m\u001B[0m\n\u001B[0m\u001B[1;32m    343\u001B[0m \u001B[0;34m\u001B[0m\u001B[0m\n\u001B[1;32m    344\u001B[0m     \u001B[0;32mdef\u001B[0m \u001B[0mrowspace\u001B[0m\u001B[0;34m(\u001B[0m\u001B[0mself\u001B[0m\u001B[0;34m,\u001B[0m \u001B[0msimplify\u001B[0m\u001B[0;34m=\u001B[0m\u001B[0;32mFalse\u001B[0m\u001B[0;34m)\u001B[0m\u001B[0;34m:\u001B[0m\u001B[0;34m\u001B[0m\u001B[0;34m\u001B[0m\u001B[0m\n",
      "\u001B[0;32m/mnt/data/Workplace/gei723/venv/lib/python3.8/site-packages/sympy/matrices/subspaces.py\u001B[0m in \u001B[0;36m_nullspace\u001B[0;34m(M, simplify, iszerofunc)\u001B[0m\n\u001B[1;32m     64\u001B[0m     \"\"\"\n\u001B[1;32m     65\u001B[0m \u001B[0;34m\u001B[0m\u001B[0m\n\u001B[0;32m---> 66\u001B[0;31m     \u001B[0mreduced\u001B[0m\u001B[0;34m,\u001B[0m \u001B[0mpivots\u001B[0m \u001B[0;34m=\u001B[0m \u001B[0mM\u001B[0m\u001B[0;34m.\u001B[0m\u001B[0mrref\u001B[0m\u001B[0;34m(\u001B[0m\u001B[0miszerofunc\u001B[0m\u001B[0;34m=\u001B[0m\u001B[0miszerofunc\u001B[0m\u001B[0;34m,\u001B[0m \u001B[0msimplify\u001B[0m\u001B[0;34m=\u001B[0m\u001B[0msimplify\u001B[0m\u001B[0;34m)\u001B[0m\u001B[0;34m\u001B[0m\u001B[0;34m\u001B[0m\u001B[0m\n\u001B[0m\u001B[1;32m     67\u001B[0m \u001B[0;34m\u001B[0m\u001B[0m\n\u001B[1;32m     68\u001B[0m     \u001B[0mfree_vars\u001B[0m \u001B[0;34m=\u001B[0m \u001B[0;34m[\u001B[0m\u001B[0mi\u001B[0m \u001B[0;32mfor\u001B[0m \u001B[0mi\u001B[0m \u001B[0;32min\u001B[0m \u001B[0mrange\u001B[0m\u001B[0;34m(\u001B[0m\u001B[0mM\u001B[0m\u001B[0;34m.\u001B[0m\u001B[0mcols\u001B[0m\u001B[0;34m)\u001B[0m \u001B[0;32mif\u001B[0m \u001B[0mi\u001B[0m \u001B[0;32mnot\u001B[0m \u001B[0;32min\u001B[0m \u001B[0mpivots\u001B[0m\u001B[0;34m]\u001B[0m\u001B[0;34m\u001B[0m\u001B[0;34m\u001B[0m\u001B[0m\n",
      "\u001B[0;32m/mnt/data/Workplace/gei723/venv/lib/python3.8/site-packages/sympy/matrices/matrices.py\u001B[0m in \u001B[0;36mrref\u001B[0;34m(self, iszerofunc, simplify, pivots, normalize_last)\u001B[0m\n\u001B[1;32m    161\u001B[0m     def rref(self, iszerofunc=_iszero, simplify=False, pivots=True,\n\u001B[1;32m    162\u001B[0m             normalize_last=True):\n\u001B[0;32m--> 163\u001B[0;31m         return _rref(self, iszerofunc=iszerofunc, simplify=simplify,\n\u001B[0m\u001B[1;32m    164\u001B[0m             pivots=pivots, normalize_last=normalize_last)\n\u001B[1;32m    165\u001B[0m \u001B[0;34m\u001B[0m\u001B[0m\n",
      "\u001B[0;32m/mnt/data/Workplace/gei723/venv/lib/python3.8/site-packages/sympy/matrices/reductions.py\u001B[0m in \u001B[0;36m_rref\u001B[0;34m(M, iszerofunc, simplify, pivots, normalize_last)\u001B[0m\n\u001B[1;32m    303\u001B[0m     \u001B[0msimpfunc\u001B[0m \u001B[0;34m=\u001B[0m \u001B[0msimplify\u001B[0m \u001B[0;32mif\u001B[0m \u001B[0misinstance\u001B[0m\u001B[0;34m(\u001B[0m\u001B[0msimplify\u001B[0m\u001B[0;34m,\u001B[0m \u001B[0mFunctionType\u001B[0m\u001B[0;34m)\u001B[0m \u001B[0;32melse\u001B[0m \u001B[0m_simplify\u001B[0m\u001B[0;34m\u001B[0m\u001B[0;34m\u001B[0m\u001B[0m\n\u001B[1;32m    304\u001B[0m \u001B[0;34m\u001B[0m\u001B[0m\n\u001B[0;32m--> 305\u001B[0;31m     mat, pivot_cols, _ = _row_reduce(M, iszerofunc, simpfunc,\n\u001B[0m\u001B[1;32m    306\u001B[0m             normalize_last, normalize=True, zero_above=True)\n\u001B[1;32m    307\u001B[0m \u001B[0;34m\u001B[0m\u001B[0m\n",
      "\u001B[0;32m/mnt/data/Workplace/gei723/venv/lib/python3.8/site-packages/sympy/matrices/reductions.py\u001B[0m in \u001B[0;36m_row_reduce\u001B[0;34m(M, iszerofunc, simpfunc, normalize_last, normalize, zero_above)\u001B[0m\n\u001B[1;32m    125\u001B[0m                 normalize=True, zero_above=True):\n\u001B[1;32m    126\u001B[0m \u001B[0;34m\u001B[0m\u001B[0m\n\u001B[0;32m--> 127\u001B[0;31m     mat, pivot_cols, swaps = _row_reduce_list(list(M), M.rows, M.cols, M.one,\n\u001B[0m\u001B[1;32m    128\u001B[0m             \u001B[0miszerofunc\u001B[0m\u001B[0;34m,\u001B[0m \u001B[0msimpfunc\u001B[0m\u001B[0;34m,\u001B[0m \u001B[0mnormalize_last\u001B[0m\u001B[0;34m=\u001B[0m\u001B[0mnormalize_last\u001B[0m\u001B[0;34m,\u001B[0m\u001B[0;34m\u001B[0m\u001B[0;34m\u001B[0m\u001B[0m\n\u001B[1;32m    129\u001B[0m             normalize=normalize, zero_above=zero_above)\n",
      "\u001B[0;32m/mnt/data/Workplace/gei723/venv/lib/python3.8/site-packages/sympy/matrices/reductions.py\u001B[0m in \u001B[0;36m_row_reduce_list\u001B[0;34m(mat, rows, cols, one, iszerofunc, simpfunc, normalize_last, normalize, zero_above)\u001B[0m\n\u001B[1;32m     66\u001B[0m     \u001B[0;32mwhile\u001B[0m \u001B[0mpiv_col\u001B[0m \u001B[0;34m<\u001B[0m \u001B[0mcols\u001B[0m \u001B[0;32mand\u001B[0m \u001B[0mpiv_row\u001B[0m \u001B[0;34m<\u001B[0m \u001B[0mrows\u001B[0m\u001B[0;34m:\u001B[0m\u001B[0;34m\u001B[0m\u001B[0;34m\u001B[0m\u001B[0m\n\u001B[1;32m     67\u001B[0m         \u001B[0mpivot_offset\u001B[0m\u001B[0;34m,\u001B[0m \u001B[0mpivot_val\u001B[0m\u001B[0;34m,\u001B[0m\u001B[0;31m \u001B[0m\u001B[0;31m\\\u001B[0m\u001B[0;34m\u001B[0m\u001B[0;34m\u001B[0m\u001B[0m\n\u001B[0;32m---> 68\u001B[0;31m         assumed_nonzero, newly_determined = _find_reasonable_pivot(\n\u001B[0m\u001B[1;32m     69\u001B[0m                 get_col(piv_col)[piv_row:], iszerofunc, simpfunc)\n\u001B[1;32m     70\u001B[0m \u001B[0;34m\u001B[0m\u001B[0m\n",
      "\u001B[0;32m/mnt/data/Workplace/gei723/venv/lib/python3.8/site-packages/sympy/matrices/determinant.py\u001B[0m in \u001B[0;36m_find_reasonable_pivot\u001B[0;34m(col, iszerofunc, simpfunc)\u001B[0m\n\u001B[1;32m     99\u001B[0m         \u001B[0;32mif\u001B[0m \u001B[0mpossible_zeros\u001B[0m\u001B[0;34m[\u001B[0m\u001B[0mi\u001B[0m\u001B[0;34m]\u001B[0m \u001B[0;32mis\u001B[0m \u001B[0;32mnot\u001B[0m \u001B[0;32mNone\u001B[0m\u001B[0;34m:\u001B[0m\u001B[0;34m\u001B[0m\u001B[0;34m\u001B[0m\u001B[0m\n\u001B[1;32m    100\u001B[0m             \u001B[0;32mcontinue\u001B[0m\u001B[0;34m\u001B[0m\u001B[0;34m\u001B[0m\u001B[0m\n\u001B[0;32m--> 101\u001B[0;31m         \u001B[0;32mif\u001B[0m \u001B[0mx\u001B[0m\u001B[0;34m.\u001B[0m\u001B[0mequals\u001B[0m\u001B[0;34m(\u001B[0m\u001B[0mS\u001B[0m\u001B[0;34m.\u001B[0m\u001B[0mZero\u001B[0m\u001B[0;34m)\u001B[0m\u001B[0;34m:\u001B[0m\u001B[0;34m\u001B[0m\u001B[0;34m\u001B[0m\u001B[0m\n\u001B[0m\u001B[1;32m    102\u001B[0m             \u001B[0;31m# ``.iszero`` may return False with\u001B[0m\u001B[0;34m\u001B[0m\u001B[0;34m\u001B[0m\u001B[0;34m\u001B[0m\u001B[0m\n\u001B[1;32m    103\u001B[0m             \u001B[0;31m# an implicit assumption (e.g., ``x.equals(0)``\u001B[0m\u001B[0;34m\u001B[0m\u001B[0;34m\u001B[0m\u001B[0;34m\u001B[0m\u001B[0m\n",
      "\u001B[0;32m/mnt/data/Workplace/gei723/venv/lib/python3.8/site-packages/sympy/core/expr.py\u001B[0m in \u001B[0;36mequals\u001B[0;34m(self, other, failing_expression)\u001B[0m\n\u001B[1;32m    761\u001B[0m             \u001B[0;32mreturn\u001B[0m \u001B[0;32mFalse\u001B[0m\u001B[0;34m\u001B[0m\u001B[0;34m\u001B[0m\u001B[0m\n\u001B[1;32m    762\u001B[0m \u001B[0;34m\u001B[0m\u001B[0m\n\u001B[0;32m--> 763\u001B[0;31m         \u001B[0mconstant\u001B[0m \u001B[0;34m=\u001B[0m \u001B[0mdiff\u001B[0m\u001B[0;34m.\u001B[0m\u001B[0mis_constant\u001B[0m\u001B[0;34m(\u001B[0m\u001B[0msimplify\u001B[0m\u001B[0;34m=\u001B[0m\u001B[0;32mFalse\u001B[0m\u001B[0;34m,\u001B[0m \u001B[0mfailing_number\u001B[0m\u001B[0;34m=\u001B[0m\u001B[0;32mTrue\u001B[0m\u001B[0;34m)\u001B[0m\u001B[0;34m\u001B[0m\u001B[0;34m\u001B[0m\u001B[0m\n\u001B[0m\u001B[1;32m    764\u001B[0m \u001B[0;34m\u001B[0m\u001B[0m\n\u001B[1;32m    765\u001B[0m         \u001B[0;32mif\u001B[0m \u001B[0mconstant\u001B[0m \u001B[0;32mis\u001B[0m \u001B[0;32mFalse\u001B[0m\u001B[0;34m:\u001B[0m\u001B[0;34m\u001B[0m\u001B[0;34m\u001B[0m\u001B[0m\n",
      "\u001B[0;32m/mnt/data/Workplace/gei723/venv/lib/python3.8/site-packages/sympy/core/expr.py\u001B[0m in \u001B[0;36mis_constant\u001B[0;34m(self, *wrt, **flags)\u001B[0m\n\u001B[1;32m    690\u001B[0m                     \u001B[0;32mreturn\u001B[0m \u001B[0;32mFalse\u001B[0m\u001B[0;34m\u001B[0m\u001B[0;34m\u001B[0m\u001B[0m\n\u001B[1;32m    691\u001B[0m                 \u001B[0;31m# try random real\u001B[0m\u001B[0;34m\u001B[0m\u001B[0;34m\u001B[0m\u001B[0;34m\u001B[0m\u001B[0m\n\u001B[0;32m--> 692\u001B[0;31m                 \u001B[0mb\u001B[0m \u001B[0;34m=\u001B[0m \u001B[0mexpr\u001B[0m\u001B[0;34m.\u001B[0m\u001B[0m_random\u001B[0m\u001B[0;34m(\u001B[0m\u001B[0;32mNone\u001B[0m\u001B[0;34m,\u001B[0m \u001B[0;34m-\u001B[0m\u001B[0;36m1\u001B[0m\u001B[0;34m,\u001B[0m \u001B[0;36m0\u001B[0m\u001B[0;34m,\u001B[0m \u001B[0;36m1\u001B[0m\u001B[0;34m,\u001B[0m \u001B[0;36m0\u001B[0m\u001B[0;34m)\u001B[0m\u001B[0;34m\u001B[0m\u001B[0;34m\u001B[0m\u001B[0m\n\u001B[0m\u001B[1;32m    693\u001B[0m                 \u001B[0;32mif\u001B[0m \u001B[0mb\u001B[0m \u001B[0;32mis\u001B[0m \u001B[0;32mnot\u001B[0m \u001B[0;32mNone\u001B[0m \u001B[0;32mand\u001B[0m \u001B[0mb\u001B[0m \u001B[0;32mis\u001B[0m \u001B[0;32mnot\u001B[0m \u001B[0mS\u001B[0m\u001B[0;34m.\u001B[0m\u001B[0mNaN\u001B[0m \u001B[0;32mand\u001B[0m \u001B[0mb\u001B[0m\u001B[0;34m.\u001B[0m\u001B[0mequals\u001B[0m\u001B[0;34m(\u001B[0m\u001B[0ma\u001B[0m\u001B[0;34m)\u001B[0m \u001B[0;32mis\u001B[0m \u001B[0;32mFalse\u001B[0m\u001B[0;34m:\u001B[0m\u001B[0;34m\u001B[0m\u001B[0;34m\u001B[0m\u001B[0m\n\u001B[1;32m    694\u001B[0m                     \u001B[0;32mreturn\u001B[0m \u001B[0;32mFalse\u001B[0m\u001B[0;34m\u001B[0m\u001B[0;34m\u001B[0m\u001B[0m\n",
      "\u001B[0;32m/mnt/data/Workplace/gei723/venv/lib/python3.8/site-packages/sympy/core/expr.py\u001B[0m in \u001B[0;36m_random\u001B[0;34m(self, n, re_min, im_min, re_max, im_max)\u001B[0m\n\u001B[1;32m    514\u001B[0m             \u001B[0;32mfrom\u001B[0m \u001B[0msympy\u001B[0m\u001B[0;34m.\u001B[0m\u001B[0mtesting\u001B[0m\u001B[0;34m.\u001B[0m\u001B[0mrandtest\u001B[0m \u001B[0;32mimport\u001B[0m \u001B[0mrandom_complex_number\u001B[0m\u001B[0;34m\u001B[0m\u001B[0;34m\u001B[0m\u001B[0m\n\u001B[1;32m    515\u001B[0m             \u001B[0ma\u001B[0m\u001B[0;34m,\u001B[0m \u001B[0mc\u001B[0m\u001B[0;34m,\u001B[0m \u001B[0mb\u001B[0m\u001B[0;34m,\u001B[0m \u001B[0md\u001B[0m \u001B[0;34m=\u001B[0m \u001B[0mre_min\u001B[0m\u001B[0;34m,\u001B[0m \u001B[0mre_max\u001B[0m\u001B[0;34m,\u001B[0m \u001B[0mim_min\u001B[0m\u001B[0;34m,\u001B[0m \u001B[0mim_max\u001B[0m\u001B[0;34m\u001B[0m\u001B[0;34m\u001B[0m\u001B[0m\n\u001B[0;32m--> 516\u001B[0;31m             reps = dict(list(zip(free, [random_complex_number(a, b, c, d, rational=True)\n\u001B[0m\u001B[1;32m    517\u001B[0m                            for zi in free])))\n\u001B[1;32m    518\u001B[0m             \u001B[0;32mtry\u001B[0m\u001B[0;34m:\u001B[0m\u001B[0;34m\u001B[0m\u001B[0;34m\u001B[0m\u001B[0m\n",
      "\u001B[0;32m/mnt/data/Workplace/gei723/venv/lib/python3.8/site-packages/sympy/core/expr.py\u001B[0m in \u001B[0;36m<listcomp>\u001B[0;34m(.0)\u001B[0m\n\u001B[1;32m    514\u001B[0m             \u001B[0;32mfrom\u001B[0m \u001B[0msympy\u001B[0m\u001B[0;34m.\u001B[0m\u001B[0mtesting\u001B[0m\u001B[0;34m.\u001B[0m\u001B[0mrandtest\u001B[0m \u001B[0;32mimport\u001B[0m \u001B[0mrandom_complex_number\u001B[0m\u001B[0;34m\u001B[0m\u001B[0;34m\u001B[0m\u001B[0m\n\u001B[1;32m    515\u001B[0m             \u001B[0ma\u001B[0m\u001B[0;34m,\u001B[0m \u001B[0mc\u001B[0m\u001B[0;34m,\u001B[0m \u001B[0mb\u001B[0m\u001B[0;34m,\u001B[0m \u001B[0md\u001B[0m \u001B[0;34m=\u001B[0m \u001B[0mre_min\u001B[0m\u001B[0;34m,\u001B[0m \u001B[0mre_max\u001B[0m\u001B[0;34m,\u001B[0m \u001B[0mim_min\u001B[0m\u001B[0;34m,\u001B[0m \u001B[0mim_max\u001B[0m\u001B[0;34m\u001B[0m\u001B[0;34m\u001B[0m\u001B[0m\n\u001B[0;32m--> 516\u001B[0;31m             reps = dict(list(zip(free, [random_complex_number(a, b, c, d, rational=True)\n\u001B[0m\u001B[1;32m    517\u001B[0m                            for zi in free])))\n\u001B[1;32m    518\u001B[0m             \u001B[0;32mtry\u001B[0m\u001B[0;34m:\u001B[0m\u001B[0;34m\u001B[0m\u001B[0;34m\u001B[0m\u001B[0m\n",
      "\u001B[0;32m/mnt/data/Workplace/gei723/venv/lib/python3.8/site-packages/sympy/testing/randtest.py\u001B[0m in \u001B[0;36mrandom_complex_number\u001B[0;34m(a, b, c, d, rational, tolerance)\u001B[0m\n\u001B[1;32m     25\u001B[0m     \u001B[0;32mif\u001B[0m \u001B[0;32mnot\u001B[0m \u001B[0mrational\u001B[0m\u001B[0;34m:\u001B[0m\u001B[0;34m\u001B[0m\u001B[0;34m\u001B[0m\u001B[0m\n\u001B[1;32m     26\u001B[0m         \u001B[0;32mreturn\u001B[0m \u001B[0mA\u001B[0m \u001B[0;34m+\u001B[0m \u001B[0mI\u001B[0m\u001B[0;34m*\u001B[0m\u001B[0mB\u001B[0m\u001B[0;34m\u001B[0m\u001B[0;34m\u001B[0m\u001B[0m\n\u001B[0;32m---> 27\u001B[0;31m     return (nsimplify(A, rational=True, tolerance=tolerance) +\n\u001B[0m\u001B[1;32m     28\u001B[0m         I*nsimplify(B, rational=True, tolerance=tolerance))\n\u001B[1;32m     29\u001B[0m \u001B[0;34m\u001B[0m\u001B[0m\n",
      "\u001B[0;32m/mnt/data/Workplace/gei723/venv/lib/python3.8/site-packages/sympy/simplify/simplify.py\u001B[0m in \u001B[0;36mnsimplify\u001B[0;34m(expr, constants, tolerance, full, rational, rational_conversion)\u001B[0m\n\u001B[1;32m   1447\u001B[0m         \u001B[0;32mreturn\u001B[0m \u001B[0mexpr\u001B[0m\u001B[0;34m\u001B[0m\u001B[0;34m\u001B[0m\u001B[0m\n\u001B[1;32m   1448\u001B[0m     \u001B[0;32mif\u001B[0m \u001B[0mrational\u001B[0m \u001B[0;32mor\u001B[0m \u001B[0mexpr\u001B[0m\u001B[0;34m.\u001B[0m\u001B[0mfree_symbols\u001B[0m\u001B[0;34m:\u001B[0m\u001B[0;34m\u001B[0m\u001B[0;34m\u001B[0m\u001B[0m\n\u001B[0;32m-> 1449\u001B[0;31m         \u001B[0;32mreturn\u001B[0m \u001B[0m_real_to_rational\u001B[0m\u001B[0;34m(\u001B[0m\u001B[0mexpr\u001B[0m\u001B[0;34m,\u001B[0m \u001B[0mtolerance\u001B[0m\u001B[0;34m,\u001B[0m \u001B[0mrational_conversion\u001B[0m\u001B[0;34m)\u001B[0m\u001B[0;34m\u001B[0m\u001B[0;34m\u001B[0m\u001B[0m\n\u001B[0m\u001B[1;32m   1450\u001B[0m \u001B[0;34m\u001B[0m\u001B[0m\n\u001B[1;32m   1451\u001B[0m     \u001B[0;31m# SymPy's default tolerance for Rationals is 15; other numbers may have\u001B[0m\u001B[0;34m\u001B[0m\u001B[0;34m\u001B[0m\u001B[0;34m\u001B[0m\u001B[0m\n",
      "\u001B[0;32m/mnt/data/Workplace/gei723/venv/lib/python3.8/site-packages/sympy/simplify/simplify.py\u001B[0m in \u001B[0;36m_real_to_rational\u001B[0;34m(expr, tolerance, rational_conversion)\u001B[0m\n\u001B[1;32m   1567\u001B[0m                 \u001B[0;32mraise\u001B[0m \u001B[0mValueError\u001B[0m\u001B[0;34m(\u001B[0m\u001B[0;34m\"rational_conversion must be 'base10' or 'exact'\"\u001B[0m\u001B[0;34m)\u001B[0m\u001B[0;34m\u001B[0m\u001B[0;34m\u001B[0m\u001B[0m\n\u001B[1;32m   1568\u001B[0m \u001B[0;34m\u001B[0m\u001B[0m\n\u001B[0;32m-> 1569\u001B[0;31m             \u001B[0mr\u001B[0m \u001B[0;34m=\u001B[0m \u001B[0mnsimplify\u001B[0m\u001B[0;34m(\u001B[0m\u001B[0mfl\u001B[0m\u001B[0;34m,\u001B[0m \u001B[0mrational\u001B[0m\u001B[0;34m=\u001B[0m\u001B[0;32mFalse\u001B[0m\u001B[0;34m)\u001B[0m\u001B[0;34m\u001B[0m\u001B[0;34m\u001B[0m\u001B[0m\n\u001B[0m\u001B[1;32m   1570\u001B[0m             \u001B[0;31m# e.g. log(3).n() -> log(3) instead of a Rational\u001B[0m\u001B[0;34m\u001B[0m\u001B[0;34m\u001B[0m\u001B[0;34m\u001B[0m\u001B[0m\n\u001B[1;32m   1571\u001B[0m             \u001B[0;32mif\u001B[0m \u001B[0mfl\u001B[0m \u001B[0;32mand\u001B[0m \u001B[0;32mnot\u001B[0m \u001B[0mr\u001B[0m\u001B[0;34m:\u001B[0m\u001B[0;34m\u001B[0m\u001B[0;34m\u001B[0m\u001B[0m\n",
      "\u001B[0;32m/mnt/data/Workplace/gei723/venv/lib/python3.8/site-packages/sympy/simplify/simplify.py\u001B[0m in \u001B[0;36mnsimplify\u001B[0;34m(expr, constants, tolerance, full, rational, rational_conversion)\u001B[0m\n\u001B[1;32m   1505\u001B[0m     \u001B[0;32mtry\u001B[0m\u001B[0;34m:\u001B[0m\u001B[0;34m\u001B[0m\u001B[0;34m\u001B[0m\u001B[0m\n\u001B[1;32m   1506\u001B[0m         \u001B[0;32mif\u001B[0m \u001B[0mre\u001B[0m\u001B[0;34m:\u001B[0m\u001B[0;34m\u001B[0m\u001B[0;34m\u001B[0m\u001B[0m\n\u001B[0;32m-> 1507\u001B[0;31m             \u001B[0mre\u001B[0m \u001B[0;34m=\u001B[0m \u001B[0mnsimplify_real\u001B[0m\u001B[0;34m(\u001B[0m\u001B[0mre\u001B[0m\u001B[0;34m)\u001B[0m\u001B[0;34m\u001B[0m\u001B[0;34m\u001B[0m\u001B[0m\n\u001B[0m\u001B[1;32m   1508\u001B[0m         \u001B[0;32mif\u001B[0m \u001B[0mim\u001B[0m\u001B[0;34m:\u001B[0m\u001B[0;34m\u001B[0m\u001B[0;34m\u001B[0m\u001B[0m\n\u001B[1;32m   1509\u001B[0m             \u001B[0mim\u001B[0m \u001B[0;34m=\u001B[0m \u001B[0mnsimplify_real\u001B[0m\u001B[0;34m(\u001B[0m\u001B[0mim\u001B[0m\u001B[0;34m)\u001B[0m\u001B[0;34m\u001B[0m\u001B[0;34m\u001B[0m\u001B[0m\n",
      "\u001B[0;32m/mnt/data/Workplace/gei723/venv/lib/python3.8/site-packages/sympy/simplify/simplify.py\u001B[0m in \u001B[0;36mnsimplify_real\u001B[0;34m(x)\u001B[0m\n\u001B[1;32m   1487\u001B[0m                     \u001B[0;32mreturn\u001B[0m \u001B[0mRational\u001B[0m\u001B[0;34m(\u001B[0m\u001B[0;34m-\u001B[0m\u001B[0mint\u001B[0m\u001B[0;34m(\u001B[0m\u001B[0mrat\u001B[0m\u001B[0;34m[\u001B[0m\u001B[0;36m1\u001B[0m\u001B[0;34m]\u001B[0m\u001B[0;34m)\u001B[0m\u001B[0;34m,\u001B[0m \u001B[0mint\u001B[0m\u001B[0;34m(\u001B[0m\u001B[0mrat\u001B[0m\u001B[0;34m[\u001B[0m\u001B[0;36m0\u001B[0m\u001B[0;34m]\u001B[0m\u001B[0;34m)\u001B[0m\u001B[0;34m)\u001B[0m\u001B[0;34m\u001B[0m\u001B[0;34m\u001B[0m\u001B[0m\n\u001B[1;32m   1488\u001B[0m             \u001B[0mmpmath\u001B[0m\u001B[0;34m.\u001B[0m\u001B[0mmp\u001B[0m\u001B[0;34m.\u001B[0m\u001B[0mdps\u001B[0m \u001B[0;34m=\u001B[0m \u001B[0mprec\u001B[0m\u001B[0;34m\u001B[0m\u001B[0;34m\u001B[0m\u001B[0m\n\u001B[0;32m-> 1489\u001B[0;31m             newexpr = mpmath.identify(xv, constants=constants_dict,\n\u001B[0m\u001B[1;32m   1490\u001B[0m                 tol=tolerance, full=full)\n\u001B[1;32m   1491\u001B[0m             \u001B[0;32mif\u001B[0m \u001B[0;32mnot\u001B[0m \u001B[0mnewexpr\u001B[0m\u001B[0;34m:\u001B[0m\u001B[0;34m\u001B[0m\u001B[0;34m\u001B[0m\u001B[0m\n",
      "\u001B[0;32m/mnt/data/Workplace/gei723/venv/lib/python3.8/site-packages/mpmath/identification.py\u001B[0m in \u001B[0;36midentify\u001B[0;34m(ctx, x, constants, tol, maxcoeff, full, verbose)\u001B[0m\n\u001B[1;32m    757\u001B[0m         \u001B[0;32melse\u001B[0m\u001B[0;34m:\u001B[0m    \u001B[0;32mreturn\u001B[0m \u001B[0;34m'0'\u001B[0m\u001B[0;34m\u001B[0m\u001B[0;34m\u001B[0m\u001B[0m\n\u001B[1;32m    758\u001B[0m     \u001B[0;32mif\u001B[0m \u001B[0mx\u001B[0m \u001B[0;34m<\u001B[0m \u001B[0;36m0\u001B[0m\u001B[0;34m:\u001B[0m\u001B[0;34m\u001B[0m\u001B[0;34m\u001B[0m\u001B[0m\n\u001B[0;32m--> 759\u001B[0;31m         \u001B[0msol\u001B[0m \u001B[0;34m=\u001B[0m \u001B[0mctx\u001B[0m\u001B[0;34m.\u001B[0m\u001B[0midentify\u001B[0m\u001B[0;34m(\u001B[0m\u001B[0;34m-\u001B[0m\u001B[0mx\u001B[0m\u001B[0;34m,\u001B[0m \u001B[0mconstants\u001B[0m\u001B[0;34m,\u001B[0m \u001B[0mtol\u001B[0m\u001B[0;34m,\u001B[0m \u001B[0mmaxcoeff\u001B[0m\u001B[0;34m,\u001B[0m \u001B[0mfull\u001B[0m\u001B[0;34m,\u001B[0m \u001B[0mverbose\u001B[0m\u001B[0;34m)\u001B[0m\u001B[0;34m\u001B[0m\u001B[0;34m\u001B[0m\u001B[0m\n\u001B[0m\u001B[1;32m    760\u001B[0m         \u001B[0;32mif\u001B[0m \u001B[0msol\u001B[0m \u001B[0;32mis\u001B[0m \u001B[0;32mNone\u001B[0m\u001B[0;34m:\u001B[0m\u001B[0;34m\u001B[0m\u001B[0;34m\u001B[0m\u001B[0m\n\u001B[1;32m    761\u001B[0m             \u001B[0;32mreturn\u001B[0m \u001B[0msol\u001B[0m\u001B[0;34m\u001B[0m\u001B[0;34m\u001B[0m\u001B[0m\n",
      "\u001B[0;32m/mnt/data/Workplace/gei723/venv/lib/python3.8/site-packages/mpmath/identification.py\u001B[0m in \u001B[0;36midentify\u001B[0;34m(ctx, x, constants, tol, maxcoeff, full, verbose)\u001B[0m\n\u001B[1;32m    800\u001B[0m             \u001B[0;31m# Quadratic algebraic numbers\u001B[0m\u001B[0;34m\u001B[0m\u001B[0;34m\u001B[0m\u001B[0;34m\u001B[0m\u001B[0m\n\u001B[1;32m    801\u001B[0m             \u001B[0;32melse\u001B[0m\u001B[0;34m:\u001B[0m\u001B[0;34m\u001B[0m\u001B[0;34m\u001B[0m\u001B[0m\n\u001B[0;32m--> 802\u001B[0;31m                 \u001B[0mq\u001B[0m \u001B[0;34m=\u001B[0m \u001B[0mctx\u001B[0m\u001B[0;34m.\u001B[0m\u001B[0mpslq\u001B[0m\u001B[0;34m(\u001B[0m\u001B[0;34m[\u001B[0m\u001B[0mctx\u001B[0m\u001B[0;34m.\u001B[0m\u001B[0mone\u001B[0m\u001B[0;34m,\u001B[0m \u001B[0mt\u001B[0m\u001B[0;34m,\u001B[0m \u001B[0mt\u001B[0m\u001B[0;34m**\u001B[0m\u001B[0;36m2\u001B[0m\u001B[0;34m]\u001B[0m\u001B[0;34m,\u001B[0m \u001B[0mtol\u001B[0m\u001B[0;34m,\u001B[0m \u001B[0mM\u001B[0m\u001B[0;34m)\u001B[0m\u001B[0;34m\u001B[0m\u001B[0;34m\u001B[0m\u001B[0m\n\u001B[0m\u001B[1;32m    803\u001B[0m                 \u001B[0;32mif\u001B[0m \u001B[0mq\u001B[0m \u001B[0;32mis\u001B[0m \u001B[0;32mnot\u001B[0m \u001B[0;32mNone\u001B[0m \u001B[0;32mand\u001B[0m \u001B[0mlen\u001B[0m\u001B[0;34m(\u001B[0m\u001B[0mq\u001B[0m\u001B[0;34m)\u001B[0m \u001B[0;34m==\u001B[0m \u001B[0;36m3\u001B[0m \u001B[0;32mand\u001B[0m \u001B[0mq\u001B[0m\u001B[0;34m[\u001B[0m\u001B[0;36m2\u001B[0m\u001B[0;34m]\u001B[0m\u001B[0;34m:\u001B[0m\u001B[0;34m\u001B[0m\u001B[0;34m\u001B[0m\u001B[0m\n\u001B[1;32m    804\u001B[0m                     \u001B[0maa\u001B[0m\u001B[0;34m,\u001B[0m \u001B[0mbb\u001B[0m\u001B[0;34m,\u001B[0m \u001B[0mcc\u001B[0m \u001B[0;34m=\u001B[0m \u001B[0mq\u001B[0m\u001B[0;34m\u001B[0m\u001B[0;34m\u001B[0m\u001B[0m\n",
      "\u001B[0;32m/mnt/data/Workplace/gei723/venv/lib/python3.8/site-packages/mpmath/identification.py\u001B[0m in \u001B[0;36mpslq\u001B[0;34m(ctx, x, tol, maxcoeff, maxsteps, verbose)\u001B[0m\n\u001B[1;32m    244\u001B[0m         \u001B[0;31m# Step 3\u001B[0m\u001B[0;34m\u001B[0m\u001B[0;34m\u001B[0m\u001B[0;34m\u001B[0m\u001B[0m\n\u001B[1;32m    245\u001B[0m         \u001B[0;32mif\u001B[0m \u001B[0mm\u001B[0m \u001B[0;34m<=\u001B[0m \u001B[0mn\u001B[0m \u001B[0;34m-\u001B[0m \u001B[0;36m2\u001B[0m\u001B[0;34m:\u001B[0m\u001B[0;34m\u001B[0m\u001B[0;34m\u001B[0m\u001B[0m\n\u001B[0;32m--> 246\u001B[0;31m             \u001B[0mt0\u001B[0m \u001B[0;34m=\u001B[0m \u001B[0msqrt_fixed\u001B[0m\u001B[0;34m(\u001B[0m\u001B[0;34m(\u001B[0m\u001B[0mH\u001B[0m\u001B[0;34m[\u001B[0m\u001B[0mm\u001B[0m\u001B[0;34m,\u001B[0m\u001B[0mm\u001B[0m\u001B[0;34m]\u001B[0m\u001B[0;34m**\u001B[0m\u001B[0;36m2\u001B[0m \u001B[0;34m+\u001B[0m \u001B[0mH\u001B[0m\u001B[0;34m[\u001B[0m\u001B[0mm\u001B[0m\u001B[0;34m,\u001B[0m\u001B[0mm\u001B[0m\u001B[0;34m+\u001B[0m\u001B[0;36m1\u001B[0m\u001B[0;34m]\u001B[0m\u001B[0;34m**\u001B[0m\u001B[0;36m2\u001B[0m\u001B[0;34m)\u001B[0m\u001B[0;34m>>\u001B[0m\u001B[0mprec\u001B[0m\u001B[0;34m,\u001B[0m \u001B[0mprec\u001B[0m\u001B[0;34m)\u001B[0m\u001B[0;34m\u001B[0m\u001B[0;34m\u001B[0m\u001B[0m\n\u001B[0m\u001B[1;32m    247\u001B[0m             \u001B[0;31m# A zero element probably indicates that the precision has\u001B[0m\u001B[0;34m\u001B[0m\u001B[0;34m\u001B[0m\u001B[0;34m\u001B[0m\u001B[0m\n\u001B[1;32m    248\u001B[0m             \u001B[0;31m# been exhausted. XXX: this could be spurious, due to\u001B[0m\u001B[0;34m\u001B[0m\u001B[0;34m\u001B[0m\u001B[0;34m\u001B[0m\u001B[0m\n",
      "\u001B[0;32m/mnt/data/Workplace/gei723/venv/lib/python3.8/site-packages/mpmath/libmp/libintmath.py\u001B[0m in \u001B[0;36msqrt_fixed\u001B[0;34m(x, prec)\u001B[0m\n\u001B[1;32m    294\u001B[0m \u001B[0;34m\u001B[0m\u001B[0m\n\u001B[1;32m    295\u001B[0m \u001B[0;32mdef\u001B[0m \u001B[0msqrt_fixed\u001B[0m\u001B[0;34m(\u001B[0m\u001B[0mx\u001B[0m\u001B[0;34m,\u001B[0m \u001B[0mprec\u001B[0m\u001B[0;34m)\u001B[0m\u001B[0;34m:\u001B[0m\u001B[0;34m\u001B[0m\u001B[0;34m\u001B[0m\u001B[0m\n\u001B[0;32m--> 296\u001B[0;31m     \u001B[0;32mreturn\u001B[0m \u001B[0misqrt_fast\u001B[0m\u001B[0;34m(\u001B[0m\u001B[0mx\u001B[0m\u001B[0;34m<<\u001B[0m\u001B[0mprec\u001B[0m\u001B[0;34m)\u001B[0m\u001B[0;34m\u001B[0m\u001B[0;34m\u001B[0m\u001B[0m\n\u001B[0m\u001B[1;32m    297\u001B[0m \u001B[0;34m\u001B[0m\u001B[0m\n\u001B[1;32m    298\u001B[0m \u001B[0msqrt_fixed2\u001B[0m \u001B[0;34m=\u001B[0m \u001B[0msqrt_fixed\u001B[0m\u001B[0;34m\u001B[0m\u001B[0;34m\u001B[0m\u001B[0m\n",
      "\u001B[0;32m/mnt/data/Workplace/gei723/venv/lib/python3.8/site-packages/mpmath/libmp/libintmath.py\u001B[0m in \u001B[0;36misqrt_fast_python\u001B[0;34m(x)\u001B[0m\n\u001B[1;32m    244\u001B[0m             \u001B[0my\u001B[0m \u001B[0;34m=\u001B[0m \u001B[0;34m(\u001B[0m\u001B[0my\u001B[0m \u001B[0;34m+\u001B[0m \u001B[0mx\u001B[0m\u001B[0;34m//\u001B[0m\u001B[0my\u001B[0m\u001B[0;34m)\u001B[0m \u001B[0;34m>>\u001B[0m \u001B[0;36m1\u001B[0m\u001B[0;34m\u001B[0m\u001B[0;34m\u001B[0m\u001B[0m\n\u001B[1;32m    245\u001B[0m             \u001B[0;32mif\u001B[0m \u001B[0mx\u001B[0m \u001B[0;34m>=\u001B[0m \u001B[0m_1_200\u001B[0m\u001B[0;34m:\u001B[0m\u001B[0;34m\u001B[0m\u001B[0;34m\u001B[0m\u001B[0m\n\u001B[0;32m--> 246\u001B[0;31m                 \u001B[0my\u001B[0m \u001B[0;34m=\u001B[0m \u001B[0;34m(\u001B[0m\u001B[0my\u001B[0m \u001B[0;34m+\u001B[0m \u001B[0mx\u001B[0m\u001B[0;34m//\u001B[0m\u001B[0my\u001B[0m\u001B[0;34m)\u001B[0m \u001B[0;34m>>\u001B[0m \u001B[0;36m1\u001B[0m\u001B[0;34m\u001B[0m\u001B[0;34m\u001B[0m\u001B[0m\n\u001B[0m\u001B[1;32m    247\u001B[0m                 \u001B[0;32mif\u001B[0m \u001B[0mx\u001B[0m \u001B[0;34m>=\u001B[0m \u001B[0m_1_400\u001B[0m\u001B[0;34m:\u001B[0m\u001B[0;34m\u001B[0m\u001B[0;34m\u001B[0m\u001B[0m\n\u001B[1;32m    248\u001B[0m                     \u001B[0my\u001B[0m \u001B[0;34m=\u001B[0m \u001B[0;34m(\u001B[0m\u001B[0my\u001B[0m \u001B[0;34m+\u001B[0m \u001B[0mx\u001B[0m\u001B[0;34m//\u001B[0m\u001B[0my\u001B[0m\u001B[0;34m)\u001B[0m \u001B[0;34m>>\u001B[0m \u001B[0;36m1\u001B[0m\u001B[0;34m\u001B[0m\u001B[0;34m\u001B[0m\u001B[0m\n",
      "\u001B[0;31mKeyboardInterrupt\u001B[0m: "
     ]
    }
   ],
   "source": [
    "spikes = np.zeros((10, len(excitatory_group)))\n",
    "old_spike_counts = np.zeros(len(excitatory_group))\n",
    "\n",
    "# Entrainement\n",
    "number_of_epochs = 1\n",
    "\n",
    "for i in range(number_of_epochs):\n",
    "    print('Starting epoch %i' % i)\n",
    "    for j, (sample, label) in enumerate(zip(X_train, y_train)):\n",
    "        # Afficher régulièrement l'état d'avancement\n",
    "        if (j % 1) == 0:\n",
    "            print(\"Running sample %i out of %i\" % (j, len(X_train)))\n",
    "\n",
    "        # Configurer le taux d'entrée\n",
    "        input_group.rates = sample / 4 * units.Hz # Completed\n",
    "\n",
    "        # Simuler le réseau\n",
    "        net.run(time_per_sample)\n",
    "\n",
    "        # Enregistrer les décharges\n",
    "        spikes[int(label)] += e_monitor.count - old_spike_counts\n",
    "        # Gardons une copie du décompte de décharges pour pouvoir calculer le prochain\n",
    "        old_spike_counts = np.copy(e_monitor.count)\n",
    "        \n",
    "        # Arrêter l'entrée\n",
    "        input_group.rates = 0 * units.Hz\n",
    "        \n",
    "        # Laisser les variables retourner à leurs valeurs de repos\n",
    "        net.run(resting_time)\n",
    "        \n",
    "        # Normaliser les poids\n",
    "        weight_matrix = np.zeros([784, 784]) # Completed\n",
    "        weight_matrix[input_synapse.i, input_synapse.j] = input_synapse.w\n",
    "        # weight_matrix = weight_matrix/input_synapse.wmax\n",
    "        # colFactors = weight_matrix[0] / col_sums\n",
    "        col_sums = np.sum(weight_matrix, axis=0) # Completed\n",
    "        colFactors = 1 / col_sums # Completed\n",
    "\n",
    "        for k in range(len(excitatory_group)):\n",
    "            weight_matrix[:,k] *= colFactors[k]\n",
    "        input_synapse.w = weight_matrix[input_synapse.i, input_synapse.j]"
   ]
  },
  {
   "cell_type": "markdown",
   "metadata": {},
   "source": [
    "## Test\n",
    "\n",
    "Commençons par trouver le meilleur neurone pour chaque classe de MNIST."
   ]
  },
  {
   "cell_type": "code",
   "execution_count": null,
   "metadata": {},
   "outputs": [],
   "source": [
    "labeled_neurons = np.argmax(spikes, axis=1)\n",
    "\n",
    "labeled_neurons"
   ]
  },
  {
   "cell_type": "markdown",
   "metadata": {},
   "source": [
    "Testons à présent le réseau entrainé!"
   ]
  },
  {
   "cell_type": "code",
   "execution_count": null,
   "metadata": {},
   "outputs": [],
   "source": [
    "# Déasctiver la plasticité STDP\n",
    "input_synapse.plastic = False\n",
    "\n",
    "num_correct_output = 0\n",
    "\n",
    "for i, (sample, label) in enumerate(zip(X_test, y_test)):\n",
    "    # Afficher régulièrement l'état d'avancement\n",
    "    if (i % 10) == 0:\n",
    "        print(\"Running sample %i out of %i\" % (i, len(X_test)))\n",
    "    \n",
    "    # Configurer le taux d'entrée\n",
    "    # ATTENTION, vous pouvez utiliser un autre type d'encodage\n",
    "    input_group.rates = sample / 4 * units.Hz # Completed\n",
    "    \n",
    "    # Simuler le réseau\n",
    "    net.run(time_per_sample)\n",
    "    \n",
    "    # Calculer le nombre de décharges pour l'échantillon\n",
    "    current_spike_count = e_monitor.count - old_spike_counts\n",
    "    # Gardons une copie du décompte de décharges pour pouvoir calculer le prochain\n",
    "    old_spike_counts = np.copy(e_monitor.count)\n",
    "    \n",
    "    # Prédire la classe de l'échantillon\n",
    "    output_label = np.argmax(COMPLETER) # Completed\n",
    "\n",
    "    # Si la prédiction est correcte\n",
    "    if output_label == int(label):\n",
    "        num_correct_output += 1\n",
    "        \n",
    "    # Laisser les variables retourner à leurs valeurs de repos\n",
    "    net.run(resting_time)\n",
    "\n",
    "    \n",
    "print(\"The model accuracy is : %.3f\" % (num_correct_output / len(X_test)))    "
   ]
  }
 ],
 "metadata": {
  "kernelspec": {
   "display_name": "Python 3",
   "language": "python",
   "name": "python3"
  },
  "language_info": {
   "codemirror_mode": {
    "name": "ipython",
    "version": 3
   },
   "file_extension": ".py",
   "mimetype": "text/x-python",
   "name": "python",
   "nbconvert_exporter": "python",
   "pygments_lexer": "ipython3",
   "version": "3.8.3"
  }
 },
 "nbformat": 4,
 "nbformat_minor": 2
}